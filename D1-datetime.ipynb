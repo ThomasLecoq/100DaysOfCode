{
 "cells": [
  {
   "cell_type": "markdown",
   "metadata": {},
   "source": [
    "# DAY1 - VIDEOS AND CODE LESSON"
   ]
  },
  {
   "cell_type": "code",
   "execution_count": 31,
   "metadata": {},
   "outputs": [
    {
     "name": "stdout",
     "output_type": "stream",
     "text": [
      "2019-03-20 21:30:18.940536\n",
      "2019-03-20\n",
      "still 280 days before christmas\n",
      "4 days, 10:00:00\n"
     ]
    },
    {
     "data": {
      "text/plain": [
       "'2019-03-21 03:30:18.940536'"
      ]
     },
     "execution_count": 31,
     "metadata": {},
     "output_type": "execute_result"
    }
   ],
   "source": [
    "#import modules from datetime library\n",
    "from datetime import datetime, date, timedelta\n",
    "\n",
    "#print today datetime, typoe : datetime\n",
    "today = datetime.today()\n",
    "print(today)\n",
    "type(today)\n",
    "\n",
    "#print today date, typoe : date\n",
    "todaydate = date.today()\n",
    "print(todaydate)\n",
    "type(todaydate)\n",
    "\n",
    "# function to get month, day, year of todaydate\n",
    "todaydate.month\n",
    "todaydate.day\n",
    "todaydate.year\n",
    "\n",
    "#date calculation\n",
    "christmas = date(2019, 12, 25)\n",
    "\n",
    "#date calculation\n",
    "dayleft = (christmas-todaydate).days\n",
    "\n",
    "#time with condition\n",
    "if christmas is not todaydate:\n",
    "    print(f'still {dayleft} days before christmas')\n",
    "\n",
    "#working with timedeltas\n",
    "t = timedelta(days=4, hours=10)\n",
    "print(t)\n",
    "\n",
    "#days of timedelta\n",
    "t.days\n",
    "\n",
    "#limited to 1 day in second representation of the 10 hours: \n",
    "t.seconds\n",
    "\n",
    "#converting into hours\n",
    "t.seconds/3600\n",
    "\n",
    "#adding timedelta type to datetime today\n",
    "eta = timedelta(hours=6)\n",
    "\n",
    "#str format the data into humanly readable data\n",
    "str(today + eta)"
   ]
  },
  {
   "cell_type": "code",
   "execution_count": null,
   "metadata": {},
   "outputs": [],
   "source": []
  }
 ],
 "metadata": {
  "kernelspec": {
   "display_name": "Python 3",
   "language": "python",
   "name": "python3"
  },
  "language_info": {
   "codemirror_mode": {
    "name": "ipython",
    "version": 3
   },
   "file_extension": ".py",
   "mimetype": "text/x-python",
   "name": "python",
   "nbconvert_exporter": "python",
   "pygments_lexer": "ipython3",
   "version": "3.7.1"
  }
 },
 "nbformat": 4,
 "nbformat_minor": 2
}
