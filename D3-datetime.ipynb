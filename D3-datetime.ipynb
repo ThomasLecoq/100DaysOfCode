{
 "cells": [
  {
   "cell_type": "code",
   "execution_count": 2,
   "metadata": {},
   "outputs": [
    {
     "name": "stdout",
     "output_type": "stream",
     "text": [
      "How much time is required to work ?\t1\n",
      "/!\\ time has started /!\\\n",
      "start : 19h:14mn:59s\n",
      "end : 19h:15mn:59s\n",
      "1 minutes left !\n",
      "0 minutes left !\n",
      "Time out, session end !\n"
     ]
    }
   ],
   "source": [
    "#A simple 1 Round Pomodoro timer\n",
    "\n",
    "#User input number of minutes\n",
    "#Times goes down\n",
    "#Every minutes, number of remaining minutes are printed to the user\n",
    "#At the end of time : a warning message is printed to the user\n",
    "\n",
    "from datetime import datetime, timedelta\n",
    "\n",
    "start_time = datetime.now()\n",
    "activate_round = 1\n",
    "\n",
    "#Get user input\n",
    "try:\n",
    "    nb_minutes = int(input('How much time is required to work ?\\t'))\n",
    "    stop_time = start_time + timedelta(minutes = nb_minutes)\n",
    "    \n",
    "    #converting datetime type into string with strftime\n",
    "    conv_start_time = start_time.strftime('%Hh:%Mmn:%Ss')\n",
    "    conv_stop_time = stop_time.strftime('%Hh:%Mmn:%Ss')\n",
    "except TypeError:\n",
    "    print('Round time must be minutes and integer')\n",
    "        \n",
    "except ValueError:\n",
    "    print('Round time must be minutes and integer')\n",
    "\n",
    "#Send starting message to the user\n",
    "print('/!\\\\ time has started /!\\\\')\n",
    "print(f'start : {conv_start_time}')\n",
    "print(f'end : {conv_stop_time}')\n",
    "print(f'{nb_minutes} minutes left !')\n",
    "\n",
    "#Loop over passing time\n",
    "while activate_round == 1:\n",
    "    i = 0\n",
    "    first_tick = start_time\n",
    "    while i < nb_minutes:\n",
    "        second_tick = datetime.now()\n",
    "        #If elapsed time == 1 minute :\n",
    "            #recalculate time left\n",
    "            #print time left to the user\n",
    "        #Else\n",
    "            #Do nothing\n",
    "        if (second_tick - first_tick).seconds/60 == 1:\n",
    "            first_tick = second_tick\n",
    "            i+= 1\n",
    "            print(f'{nb_minutes - i} minutes left !')\n",
    "        else:\n",
    "            pass\n",
    "    activate_round = 0\n",
    "        \n",
    "print('Time out, session end !')"
   ]
  },
  {
   "cell_type": "code",
   "execution_count": null,
   "metadata": {},
   "outputs": [],
   "source": []
  }
 ],
 "metadata": {
  "kernelspec": {
   "display_name": "Python 3",
   "language": "python",
   "name": "python3"
  },
  "language_info": {
   "codemirror_mode": {
    "name": "ipython",
    "version": 3
   },
   "file_extension": ".py",
   "mimetype": "text/x-python",
   "name": "python",
   "nbconvert_exporter": "python",
   "pygments_lexer": "ipython3",
   "version": "3.7.1"
  }
 },
 "nbformat": 4,
 "nbformat_minor": 2
}
