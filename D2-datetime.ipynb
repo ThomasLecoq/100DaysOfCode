{
 "cells": [
  {
   "cell_type": "markdown",
   "metadata": {},
   "source": [
    "# DAY2 - Exercices"
   ]
  },
  {
   "cell_type": "code",
   "execution_count": 1,
   "metadata": {},
   "outputs": [
    {
     "ename": "FileNotFoundError",
     "evalue": "[Errno 2] No such file or directory: '/tmp\\\\log'",
     "output_type": "error",
     "traceback": [
      "\u001b[1;31m---------------------------------------------------------------------------\u001b[0m",
      "\u001b[1;31mFileNotFoundError\u001b[0m                         Traceback (most recent call last)",
      "\u001b[1;32m<ipython-input-1-e7b37e62ce50>\u001b[0m in \u001b[0;36m<module>\u001b[1;34m\u001b[0m\n\u001b[0;32m     10\u001b[0m \u001b[1;31m# prep: read in the logfile\u001b[0m\u001b[1;33m\u001b[0m\u001b[1;33m\u001b[0m\u001b[1;33m\u001b[0m\u001b[0m\n\u001b[0;32m     11\u001b[0m \u001b[0mlogfile\u001b[0m \u001b[1;33m=\u001b[0m \u001b[0mos\u001b[0m\u001b[1;33m.\u001b[0m\u001b[0mpath\u001b[0m\u001b[1;33m.\u001b[0m\u001b[0mjoin\u001b[0m\u001b[1;33m(\u001b[0m\u001b[1;34m'/tmp'\u001b[0m\u001b[1;33m,\u001b[0m \u001b[1;34m'log'\u001b[0m\u001b[1;33m)\u001b[0m\u001b[1;33m\u001b[0m\u001b[1;33m\u001b[0m\u001b[0m\n\u001b[1;32m---> 12\u001b[1;33m \u001b[0murllib\u001b[0m\u001b[1;33m.\u001b[0m\u001b[0mrequest\u001b[0m\u001b[1;33m.\u001b[0m\u001b[0murlretrieve\u001b[0m\u001b[1;33m(\u001b[0m\u001b[1;34m'http://bit.ly/2AKSIbf'\u001b[0m\u001b[1;33m,\u001b[0m \u001b[0mlogfile\u001b[0m\u001b[1;33m)\u001b[0m\u001b[1;33m\u001b[0m\u001b[1;33m\u001b[0m\u001b[0m\n\u001b[0m\u001b[0;32m     13\u001b[0m \u001b[1;33m\u001b[0m\u001b[0m\n\u001b[0;32m     14\u001b[0m \u001b[1;32mwith\u001b[0m \u001b[0mopen\u001b[0m\u001b[1;33m(\u001b[0m\u001b[0mlogfile\u001b[0m\u001b[1;33m)\u001b[0m \u001b[1;32mas\u001b[0m \u001b[0mf\u001b[0m\u001b[1;33m:\u001b[0m\u001b[1;33m\u001b[0m\u001b[1;33m\u001b[0m\u001b[0m\n",
      "\u001b[1;32m~\\Anaconda3\\lib\\urllib\\request.py\u001b[0m in \u001b[0;36murlretrieve\u001b[1;34m(url, filename, reporthook, data)\u001b[0m\n\u001b[0;32m    255\u001b[0m         \u001b[1;31m# Handle temporary file setup.\u001b[0m\u001b[1;33m\u001b[0m\u001b[1;33m\u001b[0m\u001b[1;33m\u001b[0m\u001b[0m\n\u001b[0;32m    256\u001b[0m         \u001b[1;32mif\u001b[0m \u001b[0mfilename\u001b[0m\u001b[1;33m:\u001b[0m\u001b[1;33m\u001b[0m\u001b[1;33m\u001b[0m\u001b[0m\n\u001b[1;32m--> 257\u001b[1;33m             \u001b[0mtfp\u001b[0m \u001b[1;33m=\u001b[0m \u001b[0mopen\u001b[0m\u001b[1;33m(\u001b[0m\u001b[0mfilename\u001b[0m\u001b[1;33m,\u001b[0m \u001b[1;34m'wb'\u001b[0m\u001b[1;33m)\u001b[0m\u001b[1;33m\u001b[0m\u001b[1;33m\u001b[0m\u001b[0m\n\u001b[0m\u001b[0;32m    258\u001b[0m         \u001b[1;32melse\u001b[0m\u001b[1;33m:\u001b[0m\u001b[1;33m\u001b[0m\u001b[1;33m\u001b[0m\u001b[0m\n\u001b[0;32m    259\u001b[0m             \u001b[0mtfp\u001b[0m \u001b[1;33m=\u001b[0m \u001b[0mtempfile\u001b[0m\u001b[1;33m.\u001b[0m\u001b[0mNamedTemporaryFile\u001b[0m\u001b[1;33m(\u001b[0m\u001b[0mdelete\u001b[0m\u001b[1;33m=\u001b[0m\u001b[1;32mFalse\u001b[0m\u001b[1;33m)\u001b[0m\u001b[1;33m\u001b[0m\u001b[1;33m\u001b[0m\u001b[0m\n",
      "\u001b[1;31mFileNotFoundError\u001b[0m: [Errno 2] No such file or directory: '/tmp\\\\log'"
     ]
    }
   ],
   "source": [
    "#Bite 7. Parsing dates from logs\n",
    "'''Extract datetimes from log entries and calculate the time\n",
    "   between the first and last shutdown events'''\n",
    "from datetime import datetime\n",
    "import os\n",
    "import urllib.request\n",
    "\n",
    "SHUTDOWN_EVENT = 'Shutdown initiated'\n",
    "\n",
    "# prep: read in the logfile\n",
    "logfile = os.path.join('/tmp', 'log')\n",
    "urllib.request.urlretrieve('http://bit.ly/2AKSIbf', logfile)\n",
    "\n",
    "with open(logfile) as f:\n",
    "    loglines = f.readlines()\n",
    "\n",
    "\n",
    "# for you to code:\n",
    "\n",
    "def convert_to_datetime(line):\n",
    "    '''TODO 1:\n",
    "       Given a log line extract its timestamp and convert it to a datetime object. \n",
    "       For example calling the function with:\n",
    "       INFO 2014-07-03T23:27:51 supybot Shutdown complete.\n",
    "       returns:\n",
    "       datetime(2014, 7, 3, 23, 27, 51)'''\n",
    "\n",
    "    date_str = '%Y-%m-%dT%H:%M:%S'\n",
    "    line = line.split()\n",
    "    line = line[1]\n",
    "    conv_date = datetime.strptime(line, date_str)\n",
    "    \n",
    "    return conv_date\n",
    "\n",
    "\n",
    "def time_between_shutdowns(loglines):\n",
    "    '''TODO 2:\n",
    "       Extract shutdown events (\"Shutdown initiated\") from loglines and calculate the \n",
    "       timedelta between the first and last one. \n",
    "       Return this datetime.timedelta object.'''\n",
    "       \n",
    "    shutdown_entries = [line for line in loglines if SHUTDOWN_EVENT in line]\n",
    "    shutdown_times = [convert_to_datetime(event) for event in shutdown_entries]\n",
    "    return max(shutdown_times) - min(shutdown_times)"
   ]
  },
  {
   "cell_type": "code",
   "execution_count": null,
   "metadata": {},
   "outputs": [],
   "source": [
    "#Bite 67. Working with datetimes\n",
    "from datetime import date, timedelta\n",
    "\n",
    "start_100days = date(2017, 3, 30)\n",
    "pybites_founded = date(2016, 12, 19)\n",
    "pycon_date = date(2018, 5, 8)\n",
    "\n",
    "\n",
    "def get_hundred_days_end_date():\n",
    "    \"\"\"Return a string of yyyy-mm-dd\"\"\"\n",
    "    hund_days = timedelta(days=100)\n",
    "    end_hund_days = str(start_100days + hund_days)\n",
    "    return end_hund_days\n",
    "\n",
    "\n",
    "def get_days_between_pb_start_first_joint_pycon():\n",
    "    \"\"\"Return the int number of days\"\"\"\n",
    "    day_diff = (pycon_date - pybites_founded).days\n",
    "    return day_diff"
   ]
  },
  {
   "cell_type": "code",
   "execution_count": null,
   "metadata": {},
   "outputs": [],
   "source": [
    "#Bite 128. Work with datetime's strptime and strftime\n",
    "\n",
    "from datetime import datetime\n",
    "\n",
    "THIS_YEAR = 2018\n",
    "\n",
    "\n",
    "def years_ago(date):\n",
    "    \"\"\"Receives a date string of 'DD MMM, YYYY', for example: 8 Aug, 2015\n",
    "       Convert this date str to a datetime object (use strptime).\n",
    "       Then extract the year from the obtained datetime object and subtract\n",
    "       it from the THIS_YEAR constant above, returning the int difference.\n",
    "       So in this example you would get: 2018 - 2015 = 3\"\"\"\n",
    "       \n",
    "    year_date = datetime.strptime(date, '%d %b, %Y').year\n",
    "    y_delta = (THIS_YEAR - year_date)\n",
    "       \n",
    "    return y_delta\n",
    "\n",
    "\n",
    "def convert_eu_to_us_date(date):\n",
    "    \"\"\"Receives a date string in European format of dd/mm/yyyy, e.g. 11/03/2002\n",
    "       Convert it to an American date: mm/dd/yyyy (in this case 03/11/2002).\n",
    "       To enforce the use of datetime's strptime / strftime (over slicing)\n",
    "       the tests check if a ValueError is raised for invalid day/month/year\n",
    "       ranges (no need to code this, datetime does this out of the box)\"\"\"\n",
    "    \n",
    "    date = datetime.strptime(date, '%d/%m/%Y')\n",
    "    conv_date = date.strftime('%m/%d/%Y')\n",
    "    \n",
    "    return conv_date"
   ]
  }
 ],
 "metadata": {
  "kernelspec": {
   "display_name": "Python 3",
   "language": "python",
   "name": "python3"
  },
  "language_info": {
   "codemirror_mode": {
    "name": "ipython",
    "version": 3
   },
   "file_extension": ".py",
   "mimetype": "text/x-python",
   "name": "python",
   "nbconvert_exporter": "python",
   "pygments_lexer": "ipython3",
   "version": "3.7.1"
  }
 },
 "nbformat": 4,
 "nbformat_minor": 2
}
