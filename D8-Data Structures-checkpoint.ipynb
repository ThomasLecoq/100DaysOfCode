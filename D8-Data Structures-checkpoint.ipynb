{
 "cells": [
  {
   "cell_type": "markdown",
   "metadata": {},
   "source": [
    "# D8 - Data Structures"
   ]
  },
  {
   "cell_type": "code",
   "execution_count": null,
   "metadata": {},
   "outputs": [],
   "source": [
    "#Exerices of Day 8 : https://codechalleng.es/bites/promo/datastructures\n",
    "\n",
    "\n",
    "cars = {\n",
    "    'Ford': ['Falcon', 'Focus', 'Festiva', 'Fairlane'],\n",
    "    'Holden': ['Commodore', 'Captiva', 'Barina', 'Trailblazer'],\n",
    "    'Nissan': ['Maxima', 'Pulsar', '350Z', 'Navara'],\n",
    "    'Honda': ['Civic', 'Accord', 'Odyssey', 'Jazz'],\n",
    "    'Jeep': ['Grand Cherokee', 'Cherokee', 'Trailhawk', 'Trackhawk']\n",
    "}\n",
    "\n",
    "def get_all_jeeps(cars=cars):\n",
    "    \"\"\"return a comma  + space (', ') separated string of jeep models (original order)\"\"\"\n",
    "    JeepString = str()\n",
    "    for key, val in cars.items():\n",
    "        if key =='Jeep':\n",
    "            JeepString = ', '.join(val)\n",
    "    return JeepString\n",
    "\n",
    "get_all_jeeps()\n",
    "\n",
    "\n",
    "def get_first_model_each_manufacturer(cars=cars):\n",
    "    \"\"\"return a list of matching models (original ordering)\"\"\"\n",
    "    firstCarLst = [val[0] for key, val in cars.items()]\n",
    "    return firstCarLst\n",
    "\n",
    "\n",
    "def get_all_matching_models(cars=cars, grep='trail'):\n",
    "    \"\"\"return a list of all models containing the case insensitive\n",
    "       'grep' string which defaults to 'trail' for this exercise,\n",
    "       sort the resulting sequence alphabetically\"\"\"\n",
    "    \n",
    "    matchLst = sorted([val for lst in cars.values() for val in lst if grep.lower().capitalize() in val or grep.lower() in val])\n",
    "    print(matchLst)\n",
    "    return matchLst\n",
    "\n",
    "\n",
    "def sort_car_models(cars=cars):\n",
    "    \"\"\"sort the car models (values) and return the resulting cars dict\"\"\"\n",
    "    \n",
    "    cars = {key : sorted(val) for key, val in cars.items()}\n",
    "    print(cars)\n",
    "    return cars"
   ]
  }
 ],
 "metadata": {
  "kernelspec": {
   "display_name": "Python 3",
   "language": "python",
   "name": "python3"
  },
  "language_info": {
   "codemirror_mode": {
    "name": "ipython",
    "version": 3
   },
   "file_extension": ".py",
   "mimetype": "text/x-python",
   "name": "python",
   "nbconvert_exporter": "python",
   "pygments_lexer": "ipython3",
   "version": "3.7.1"
  }
 },
 "nbformat": 4,
 "nbformat_minor": 2
}
