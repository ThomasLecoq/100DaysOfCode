{
 "cells": [
  {
   "cell_type": "markdown",
   "metadata": {},
   "source": [
    "# collections"
   ]
  },
  {
   "cell_type": "code",
   "execution_count": 28,
   "metadata": {},
   "outputs": [
    {
     "data": {
      "text/plain": [
       "'bob'"
      ]
     },
     "execution_count": 28,
     "metadata": {},
     "output_type": "execute_result"
    }
   ],
   "source": [
    "from collections import namedtuple, defaultdict, Counter, deque\n",
    "import random\n",
    "\n",
    "#namedtuple\n",
    "user = namedtuple('User', 'name role')\n",
    "random_user = user(name='bob', role='coder')\n",
    "random_user.name\n"
   ]
  },
  {
   "cell_type": "code",
   "execution_count": 29,
   "metadata": {},
   "outputs": [
    {
     "data": {
      "text/plain": [
       "{'mike': [10, 11], 'julian': [7, 8], 'bob': [5, 6], 'john': []}"
      ]
     },
     "execution_count": 29,
     "metadata": {},
     "output_type": "execute_result"
    }
   ],
   "source": [
    "#defaultdict : cleaner when it's required to initialize a dict when no keys is in it\n",
    "#avoid keyerror\n",
    "\n",
    "challenges_done = [('mike', 10), ('julian', 7), ('bob', 5),\n",
    "                   ('mike', 11), ('julian', 8), ('bob', 6)]\n",
    "challenges_done\n",
    "\n",
    "challenges = defaultdict(list)\n",
    "for name, challenge in challenges_done:\n",
    "    challenges[name].append(challenge)\n",
    "challenges\n",
    "\n",
    "#Also avoid Keyerror when value input is void\n",
    "challenges['john']\n",
    "\n",
    "#Also add the missing key to the dict\n",
    "challenges\n",
    "\n",
    "#can also be reversed to dict\n",
    "challenges = dict(challenges)\n",
    "challenges"
   ]
  },
  {
   "cell_type": "code",
   "execution_count": 30,
   "metadata": {},
   "outputs": [
    {
     "data": {
      "text/plain": [
       "[('the', 6),\n",
       " ('Lorem', 4),\n",
       " ('Ipsum', 4),\n",
       " ('of', 4),\n",
       " ('and', 3),\n",
       " ('dummy', 2),\n",
       " ('text', 2),\n",
       " ('has', 2),\n",
       " ('a', 2),\n",
       " ('type', 2)]"
      ]
     },
     "execution_count": 30,
     "metadata": {},
     "output_type": "execute_result"
    }
   ],
   "source": [
    "#counter : useful for frequency count\n",
    "\n",
    "words = \"\"\"Lorem Ipsum is simply dummy text of the printing and typesetting industry. Lorem Ipsum has been \n",
    "the industry's standard dummy text ever since the 1500s, when an unknown printer took a galley of type and \n",
    "scrambled it to make a type specimen book. It has survived not only five centuries, but also the leap into \n",
    "electronic typesetting, remaining essentially unchanged. It was popularised in the 1960s with the release of\n",
    "Letraset sheets containing Lorem Ipsum passages, and more recently with desktop publishing software like Aldus\n",
    "PageMaker including versions of Lorem Ipsum\"\"\".split()\n",
    "words[:5]\n",
    "\n",
    "#ten most frequent words in the list\n",
    "Counter(words).most_common(10)"
   ]
  },
  {
   "cell_type": "code",
   "execution_count": 31,
   "metadata": {},
   "outputs": [
    {
     "name": "stdout",
     "output_type": "stream",
     "text": [
      "136 ms ± 696 µs per loop (mean ± std. dev. of 7 runs, 10 loops each)\n",
      "20.7 µs ± 805 ns per loop (mean ± std. dev. of 7 runs, 100000 loops each)\n"
     ]
    }
   ],
   "source": [
    "#deque : quick and efficient type for massive\n",
    "\n",
    "#generate two object : a list and a deque of 1M value\n",
    "lst = list(range(10000000))\n",
    "deq = deque(range(10000000))\n",
    "\n",
    "def insert_and_delete(ds):\n",
    "    #for elt in a range of 10:\n",
    "        #define an index\n",
    "        #at this index, in the list/deque : remove an item and insert an item\n",
    "    \n",
    "    for _ in range(10):\n",
    "        index = random.choice(range(100))\n",
    "        ds.remove(index)\n",
    "        ds.insert(index, index)\n",
    "\n",
    "# %timeit : to measure execution time\n",
    "#deque performe much better\n",
    "%timeit insert_and_delete(lst)\n",
    "%timeit insert_and_delete(deq)"
   ]
  },
  {
   "cell_type": "code",
   "execution_count": null,
   "metadata": {},
   "outputs": [],
   "source": []
  },
  {
   "cell_type": "code",
   "execution_count": null,
   "metadata": {},
   "outputs": [],
   "source": []
  }
 ],
 "metadata": {
  "kernelspec": {
   "display_name": "Python 3",
   "language": "python",
   "name": "python3"
  },
  "language_info": {
   "codemirror_mode": {
    "name": "ipython",
    "version": 3
   },
   "file_extension": ".py",
   "mimetype": "text/x-python",
   "name": "python",
   "nbconvert_exporter": "python",
   "pygments_lexer": "ipython3",
   "version": "3.7.1"
  }
 },
 "nbformat": 4,
 "nbformat_minor": 2
}
